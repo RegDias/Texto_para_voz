{
  "nbformat": 4,
  "nbformat_minor": 0,
  "metadata": {
    "colab": {
      "provenance": [],
      "authorship_tag": "ABX9TyNBY7UPxEuadq8zvgXtDYu1",
      "include_colab_link": true
    },
    "kernelspec": {
      "name": "python3",
      "display_name": "Python 3"
    },
    "language_info": {
      "name": "python"
    }
  },
  "cells": [
    {
      "cell_type": "markdown",
      "metadata": {
        "id": "view-in-github",
        "colab_type": "text"
      },
      "source": [
        "<a href=\"https://colab.research.google.com/github/RegDias/Texto_para_voz/blob/main/Texto_para_voz.ipynb\" target=\"_parent\"><img src=\"https://colab.research.google.com/assets/colab-badge.svg\" alt=\"Open In Colab\"/></a>"
      ]
    },
    {
      "cell_type": "code",
      "source": [
        "!pip install gTTS"
      ],
      "metadata": {
        "id": "2rw4AbIU-dpF",
        "colab": {
          "base_uri": "https://localhost:8080/"
        },
        "outputId": "ec027f05-f6e4-470c-d365-893eb4ce2f94"
      },
      "execution_count": 1,
      "outputs": [
        {
          "output_type": "stream",
          "name": "stdout",
          "text": [
            "Looking in indexes: https://pypi.org/simple, https://us-python.pkg.dev/colab-wheels/public/simple/\n",
            "Collecting gTTS\n",
            "  Downloading gTTS-2.2.4-py3-none-any.whl (26 kB)\n",
            "Requirement already satisfied: requests in /usr/local/lib/python3.7/dist-packages (from gTTS) (2.23.0)\n",
            "Requirement already satisfied: click in /usr/local/lib/python3.7/dist-packages (from gTTS) (7.1.2)\n",
            "Requirement already satisfied: six in /usr/local/lib/python3.7/dist-packages (from gTTS) (1.15.0)\n",
            "Requirement already satisfied: certifi>=2017.4.17 in /usr/local/lib/python3.7/dist-packages (from requests->gTTS) (2022.9.24)\n",
            "Requirement already satisfied: chardet<4,>=3.0.2 in /usr/local/lib/python3.7/dist-packages (from requests->gTTS) (3.0.4)\n",
            "Requirement already satisfied: idna<3,>=2.5 in /usr/local/lib/python3.7/dist-packages (from requests->gTTS) (2.10)\n",
            "Requirement already satisfied: urllib3!=1.25.0,!=1.25.1,<1.26,>=1.21.1 in /usr/local/lib/python3.7/dist-packages (from requests->gTTS) (1.24.3)\n",
            "Installing collected packages: gTTS\n",
            "Successfully installed gTTS-2.2.4\n"
          ]
        }
      ]
    },
    {
      "cell_type": "code",
      "source": [
        "from gtts import gTTS\n",
        "\n",
        "text_to_say = \"How are you doing?.\"\n",
        "\n",
        "language = \"en\"\n",
        "\n",
        "gtts_object = gTTS(text = text_to_say,\n",
        "                   lang = language,\n",
        "                   slow = False)\n",
        "\n",
        "gtts_object.save(\"/content/gtts.wav\")"
      ],
      "metadata": {
        "id": "UNIj36pPO06X"
      },
      "execution_count": 4,
      "outputs": []
    },
    {
      "cell_type": "code",
      "source": [
        "from IPython.display import Audio\n",
        "\n",
        "Audio(\"/content/gtts.wav\")"
      ],
      "metadata": {
        "colab": {
          "base_uri": "https://localhost:8080/",
          "height": 61
        },
        "id": "O3Yu8Mn-RDeN",
        "outputId": "1effc4f4-03c7-4fc2-bb53-f6652572cbc4"
      },
      "execution_count": 5,
      "outputs": [
        {
          "output_type": "execute_result",
          "data": {
            "text/plain": [
              "<IPython.lib.display.Audio object>"
            ],
            "text/html": [
              "\n",
              "                <audio  controls=\"controls\" >\n",
              "                    <source src=\"data:audio/x-wav;base64,//NExAAAAANIAUAAAP9FNxxupcX/F6WB4n/w3L32hziQrgDnC7z0YwJjxWKf5+5AuLx78/MyTHjen8/7EqjQwNet/CALB8mf/+8HX1FP//W/c8aqHgXqNaLpwZGNww2q//NExFMRiW5QAZk4ALxbC+h5yHQ9YlY6shiZAYiYgip23T2WO3tTcj1IeB2j5UOADwJk87lMcy+cF8fyQ569ecDvSr/lSJzpYcm+M2peyykzNnblcttr6LLpD+X86fY6//NExF8fEkJoAc9gAGb32+d37PsN/T70v+/zHAeGAIomGFvB96gGp3Ga6gafCvTZnwKz+sFSrCgUDhRHsjIiyfm6+U+bWmise0IZFYyu2qI3pp2Xc1h6CbvmxPng9QuD//NExDUf0jKAAEvSuA2/L83zQRkrnLZGbNtFzQYPEau6o9fw367wbithAq/kCKbckYgQIrq/Wzn4Rz6gmgtHFBcX5OE3N0GCEIvEblHxh2GHjHNoCrtCKhNns+ktGTik//NExAgSUZacABJMlXVjKeLQBcCyxxycEEXIGnJrzNLRh2XAMRXbdLuLFTgsmtwNJQs8Wg9Lz5//2b//62t7f8qpXkpmj3mOE/k+//2+qs6+UfW0ZlBxInhbrQ5Yyr1E//NExBEW4SakAMYecNAswgPk8OTiGZcdqb+MoWkYBF6JZKLp+D4MiNHkelvPs6Gx4nDk07i6h7tilFZNWJWzHH3ikF/HmsIF3dimFBExMDrurC5kUGOSum1mANvB2Tdm//NExAgTiTK0AIYecC4BD1Z7g0QxjcufqVQu0iPS3pdL0U1I2/wU4EfMWVThxhMI/FI58OcT+jyN/Xs9f8YcM/7U+t/+B85v3QPWjThAowlVrwNVfmINTh4TZpNAhg0z//NExAwU8SK0AJ4ecB7ctndyrrGrQiWFmL0p702X1LWPxX0/DlCLcap0OEIyzf7blU4a/tDpvG6wqf2guF9/My1Q0VDEtkXLCVZALi5ntNhomnbSWan9wriAZ+I3lvPj//NExAsUISKoAMZScAow7QNXA0oT1NLUDxHUsjRIlDTADMocusjQ5FLB6KrxQkwGjpGEBO9pUlqeZUo1lxlsZ0tK4KKIiJdh8UIdOpf6thvZ+OXc5b5TPyZvC2GLT9K9//NExA0UgY6UANaUlOZCuZXUHGX2YdVCwUQLT+IGzV5YzsABTbZTuEGmWM79Zlbf577nYi/P/61uWNnCsIskapoPidoPh8en///qayVQhQp/m6W7rOUNzMZTDN8ATDYZ//NExA4TkP6UANbicKEQqZp8gY/XdH8o6hJMEcR4Dyyp2xF9zKzl/LNPavkNAhBJCAFVaBiRBuiocCKaaZAx3sjUmRU8+v//TS75E/qViuX9swMEDB809kofF4Rg0erc//NExBIS8P6UANamcBJ5xZd8tX0ZJURKp3dina6RLUsoYl3ND7ABuAewZYXIThcKA+zda1uHQCgTRBp1Alvz+v//29WhmAWiy3cm1UDEaEfpXNzkRC4wXlpFU+W69ANW//NExBkSsZ6cANYUlI1vXcV5q+o7OW/eNdL83YzypLEionSZ6qjogUiLygvChPaVH5h3Qxn+3///9S5v57Sprfv8VpnzK5nc7z3MRCLpkzMAkEMbqIsCqXbcz0YmO7kw//NExCERqaKkAMqalIEQpkbHCUHmFpNkzQcAV4gwylmY9CRI5otab/////UgaJzfpQCCq/rOMBXU40nfpLm0/zROYtZegA4Z8TmtzzW5n0NN/e1+gsCoPiRKH4UGC0y///NExC0QUaqgAMnQlM9Vr8RS1+/7vE177MqDyF9UKjNqqoK53+COfCA17MsrghORINkPagrBuX0B5ed+Zq9Tfv/Ra9wHqK1DiCVdeX3+yr8Gix1+Ql+i/8nByHo5Q2u4//NExD4SgaaQANtQlDYJPWyoyln///xdiHhsb1NiCzDiuk/sRHE0vXhjQL4dbhgnkJP7fKv53ydvEgQhiGqDAhPJm8WCz5ERHdSz1nEz7kJU85pQiewAYvrcLAmmz/////NExEcSabKMANqUlF6YvZB//oqSokLWddsiNRGiu1zA8XNwULeYM+U+pf1+FyGg0C/D4xDTAuwgMYoMQA4hC10BvLeLn93+dVzyo2NnWemn2602qWFlI//16/rUaF2p//NExFATshKQANnUmIbuR8Rw4YPwJnabuDWceV5ZmYeDKdRaLdBAP1O+PH5AOdAwGxBaRWDvALUosxwaAbJBaXwCzHoa1S+zcw+7epLoMbOZbnycl8WEX//o/8XVldjO//NExFQUEZ6UANqalFDAzFewWzdyXylVY5igS3PzaRcdDXoBzb5MHr6yz1FGqgMxZrJwEePWmkSYAskqg6RkKpQUgcEOLiazVlo9lI+317JIldrzn0H893+///7fvFkB//NExFYV2d6QANNamDGKrfqbHAhtKg1qzsylDM6apiVWoqN4Sr4KDO/ypf9itfqGtcQkO2tiA7ADl00zcPg6rl6g3E6ZTNgHo+7GT/3/74vlnF/Vkl3OivIiqnlr1KYx//NExFES0ZKYANLWlR6NGMM+Mct3AEDMgTMgDFpQtDhDYFoNX1rferPYvx/++zOftRKWp5MJEl0WAVbJEAoyizzNaaSfCCksIKCgo5/wv7l4UMoSBBQATAILMCh852Pj//NExFgSoSaEANPMcQuQgCBy/BgAXGMgiX5QWdoKAcwkB4RE7DlW7FaklXneatIw/sV0By8UbC10278QV7uqP/lkouioQcYSVZgMsSlyxI3EnnpuU+L72uS6BosS8383//NExGAQOGJUAVwYAVGiQcBwxJH6BoppgXzpdHd+cLlI0iND1H4liTNv5ohJRCUBaBzhkCeh2HiO3/pm48DpTHIaUBNB7hOx4AqzIcolY+f/rT3/kE2C8FdjhQL8vm////NExHIgYyKEAZloAf6d9P/zFy0zSHodQTdZ0PXmGcsJTT3JfdgERQmnDKGNyrmd+xn3Ve3//r1qaf+G/iT74m7SRlWH5YsYRP2/8B4KEnKChBFsliYiY01Va9ybk41Q//NExEMcCs6gAdlAAWz9CqtcOSKD1IKsWeUGmySriptpqVdzxf/ukX7RxfPfH9fX3NeqFJkrsfql/iq/l+SqJxFDXXbkzCzTSzwi3Qq1jAgWaUGg7rKPv8+b80++SBce//NExCUWIZqkANIelPjVIrNeMNetIukOWZ/VuVasisbcXdah08sTW/XH+c53/n6vfVfe+ZdKSRUdPWNHf////rqi/ld9DHl0CVLKniSOPWmIhsKvaXRoP+h3/qrMZ7jL//NExB8VUZKsANJSlCvImDBJmtAhGRQVgyfwUgkTK05IiaIWUyEMh4j1ln58qvnu//8j/63fmrJlmmCMu1Sf////+urWH8zCiVMyltTSd5jqIHOPB4CfQLIhKQE+hugg//NExBwSiR6sANUYcdRWeTzyUJx3fuXiePl4ToSj5n52u2pPZ9Zm1mm8yrpO2WP/t22vozMot4VdWFjVt4/zqyT+DfrHkrCgpjKZpgEbqbxbkLA6fvNVnaZJR/9yOP+1//NExCQRaM6kAM6ScDFKIiDTFX1kUM/tUE3lgJlnOCpz/PYSJyVtLpk//////0rHW7kfTsM/yDFkTrwB4WLn4Ur23LftiIGWQhHamdIw8SB53MpVLgkO5SL9x3xJOhnJ//NExDERQRKYANaKcMwkJn2lQx/3kVEtL5Zs7////7/ox3qrJElTUxRKLPYxpoiE06MqGtb9uBagBJYp+UxSzZmxDBZ/5RLAkF79OP9Kv+EQ3/lzf36je4IJcscz4t/7//NExD8RSS6YANaQcKX/////9NXX8zlDMw0WU3qWLGAHBWKApLQbTcETEUmGzma8llYOQO/zSktBKRY9HsouGBgYOv0jwPk58QpZc0YYPKR+rU4m3rdZPQAHXrMR9Lwz//NExEwP+L6oAM6YTBDywBCVhoHASbVWNmZYWHislgvZd03V09aOWEZyTTkwNg+WLCXd+Dn2Ktzv/M07b277o6AxVo9SG/+L1dfxZZGqJbhsEvMiWKKZglJ9CgbYmG6r//NExF8RySawAMPYcLYZpbtbO9SV5nHd3WsxevLone/c3IBDOBkAoDBxRAGQEplY52HLA7YJdfDhYe1Wuwkv/SrXLoqyzaW9VtDBsFhwLiddCxpa5DjQ9MRl3rWEotZW//NExGoSmTaoAMYMcOzTZdqdvZVvyW7X2o1La1UioNCMZpDSiVMM4hlLCqoqCTwqx1lz2TjX+qqhnY0DmVa5COgmyBC3pEcJ1pHGwnGs2UgwkKhH4nYvb9fv3tb1e/////NExHISUSqkAM4ScPX/w3UFSLA6aXBxh8lqaxgq5Ejv+u0n/++5VWmX46a15A2IJks99DsbQ8jWXkfaE1uIsoaEgOV1OpH28sW9QdIHBF6kkT6+mhnKQWEiCUOiTgIH//NExHsQmS6cAMvQcNwUQDoVV/6Vu+9SXhOw4ebK0FpZhvYZKVuJBRgVLLkPHaj6QAlMaABJLGnhi/Ft3kc9YDyUCDvY/fSTWzePrZ2LS9pT/smnSaaw0wuq///TIAso//NExIsQqSqMANPKcARTo61aTyZiEBJrYSpgMgBwYI972hcUDWW5NPkEjEBcY1JYEpY9eq/GrmzAbDoFqVTNxUZGibcLaAqY6WGFNTqxjkxI4X61WbJWYHtIKXD+AoEB//NExJsROSp8ANPMcFhMRFBEBTiuVYDIOCh6hBpGyKQ5WKylO0YzMz7SCzSJZK40SkWz5/nd4YicwRhaEt4mWfdqXTEP0i1a/VMgm+aSmUIjYFSThqMBQhZJcoi8+hNY//NExKkSYTZwAN4QcO/VCFQYCZgR8TSRlVokwk0RFoCMLtCTVUz3Am4FgEL3FovrZu/KZiuJ3K/Yzer1JFS1Ijqowq1PMQaCXAC6gtc4rrJ1RdKJrjxkbpCSA5peqvaz//NExLIRKTZsANvMcTLcHRIlJApAnKYYrNLeGzs+HfeaDGwE3qKLHvCo83fM4z/yCgqULLGVCbQbKTCJDBZiXYRJhwBh2jmBcwfM0XfO1suttWSJFGtecOJaCgIlXn+q//NExMAS6TZoANvMcP3k0idg1Eqz0RA1O0FQaPBr531PiVyw1Q5JpeAGH7WmcqdHQMOerx3RVz96DxiL3xLxIDpkDLX4S+sFZ0KkmJnjMFR7WJrDXWrhrw7r1KtrXZX8//NExMcRGPpoANMMcJRdAqMTJKkBsZgRPDGBsmpBKTBUfJHDiVGkdnHI4SSeqqnIo+jUWAjpfGqkfGjcaiY3/dqtWe1AUFYwvjRYXEqUCmG/KaVJeKGsRmwVEdwb8WD5//NExNURqPJUAMsMcLCbG/r8SR39Gxf4/g0FAMDEV8JWTMavfigEAwSIEDE5/+yZMmTCwAQIECERCCd3etEQnYfggCYf/g4GP5cHwfD/1AgCAIAgD8nBzLvBD9Rwuf9Q//NExOEPMPIEAGGGcCBQPrD/g+Bwxk0QBASWgv9PxmYdqLHaRgBBWsdhxKmAgI9SYUezHqAqCgv4goKC//jem//hQUFBQzEVFBcjr9F+N8b4qXwnwXwXwp8J/5Pydibi//NExPcXwWnsAGGGle42wd0V03zjfFeN+wN4V8obw7SgLecB9oShydEI0NignPNMylllgMECBhHGCStVT/+22Kqbf///aav///ZKqmzv//ppqmSlaKv/6doiVdIlFV/9//NExOsTsL3oAHpMTKaIiwTTVEW//VBqqQNESrpqTEFNRTMuMTAwqqqqqqqqqqqqqqqqqqqqqqqqqqqqqqqqqqqqqqqqqqqqqqqqqqqqqqqqqqqqqqqqqqqqTEFNRTMu//NExO8WOKHoAMGGTTEwMKqqqqqqqqqqqqqqqqqqqqqqqqqqqqqqqqqqqqqqqqqqqqqqqqqqqqqqqqqqqqqqqqqqqqqqqqqqqqqqqqqqqqqqqqqqqqqqqqqqTEFNRTMu//NExOkU0IEkAHpGSTEwMKqqqqqqqqqqqqqqqqqqqqqqqqqqqqqqqqqqqqqqqqqqqqqqqqqqqqqqqqqqqqqqqqqqqqqqqqqqqqqqqqqqqqqqqqqqqqqqqqqqTEFNRTMu//NExKwAAANIAAAAADEwMKqqqqqqqqqqqqqqqqqqqqqqqqqqqqqqqqqqqqqqqqqqqqqqqqqqqqqqqqqqqqqqqqqqqqqqqqqqqqqqqqqqqqqqqqqqqqqqqqqqTEFNRTMu//NExKwAAANIAAAAADEwMKqqqqqqqqqqqqqqqqqqqqqqqqqqqqqqqqqqqqqqqqqqqqqqqqqqqqqqqqqqqqqqqqqqqqqqqqqqqqqqqqqqqqqqqqqqqqqqqqqqTEFNRTMu//NExKwAAANIAAAAADEwMKqqqqqqqqqqqqqqqqqqqqqqqqqqqqqqqqqqqqqqqqqqqqqqqqqqqqqqqqqqqqqqqqqqqqqqqqqqqqqqqqqqqqqqqqqqqqqqqqqqTEFNRTMu//NExKwAAANIAAAAADEwMKqqqqqqqqqqqqqqqqqqqqqqqqqqqqqqqqqqqqqqqqqqqqqqqqqqqqqqqqqqqqqqqqqqqqqqqqqqqqqqqqqqqqqqqqqqqqqqqqqqqqqqqqqq//NExKwAAANIAAAAAKqqqqqqqqqqqqqqqqqqqqqqqqqqqqqqqqqqqqqqqqqqqqqqqqqqqqqqqqqqqqqqqqqqqqqqqqqqqqqqqqqqqqqqqqqqqqqqqqqqqqqqqqqqqqqq//NExKwAAANIAAAAAKqqqqqqqqqqqqqqqqqqqqqqqqqqqqqqqqqqqqqqqqqqqqqqqqqqqqqqqqqqqqqqqqqqqqqqqqqqqqqqqqqqqqqqqqqqqqqqqqqqqqqqqqqqqqqq\" type=\"audio/x-wav\" />\n",
              "                    Your browser does not support the audio element.\n",
              "                </audio>\n",
              "              "
            ]
          },
          "metadata": {},
          "execution_count": 5
        }
      ]
    },
    {
      "cell_type": "code",
      "source": [
        "from gtts import gTTS\n",
        "\n",
        "text_to_say = \"Como vai você?.\"\n",
        "\n",
        "language = \"pt\"\n",
        "\n",
        "gtts_object = gTTS(text = text_to_say,\n",
        "                   lang = language,\n",
        "                   slow = False)\n",
        "\n",
        "gtts_object.save(\"/content/gtts.wav\")"
      ],
      "metadata": {
        "id": "6Bi94eghTRW6"
      },
      "execution_count": 6,
      "outputs": []
    },
    {
      "cell_type": "code",
      "source": [
        "from IPython.display import Audio\n",
        "\n",
        "Audio(\"/content/gtts.wav\")"
      ],
      "metadata": {
        "colab": {
          "base_uri": "https://localhost:8080/",
          "height": 61
        },
        "outputId": "ce4fa0fb-026e-45b0-a01c-a46957e9e155",
        "id": "jc3-1hdDTbVF"
      },
      "execution_count": 7,
      "outputs": [
        {
          "output_type": "execute_result",
          "data": {
            "text/plain": [
              "<IPython.lib.display.Audio object>"
            ],
            "text/html": [
              "\n",
              "                <audio  controls=\"controls\" >\n",
              "                    <source src=\"data:audio/x-wav;base64,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\" type=\"audio/x-wav\" />\n",
              "                    Your browser does not support the audio element.\n",
              "                </audio>\n",
              "              "
            ]
          },
          "metadata": {},
          "execution_count": 7
        }
      ]
    },
    {
      "cell_type": "code",
      "source": [
        "french_text = \"Você vai ao supermercado hoje?\"\n",
        "\n",
        "french_language = \"pt\"\n",
        "\n",
        "french_gtts_object = gTTS(text = french_text,\n",
        "                          lang = french_language,\n",
        "                          slow = True)\n",
        "\n",
        "french_gtts_object.save(\"/content/french.wav\")\n",
        "\n",
        "Audio(\"/content/french.wav\")"
      ],
      "metadata": {
        "colab": {
          "base_uri": "https://localhost:8080/",
          "height": 61
        },
        "id": "fdwfVv2CUIii",
        "outputId": "625a16f7-3f33-4f17-e755-08032ca4e550"
      },
      "execution_count": 10,
      "outputs": [
        {
          "output_type": "execute_result",
          "data": {
            "text/plain": [
              "<IPython.lib.display.Audio object>"
            ],
            "text/html": [
              "\n",
              "                <audio  controls=\"controls\" >\n",
              "                    <source src=\"data:audio/x-wav;base64,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\" type=\"audio/x-wav\" />\n",
              "                    Your browser does not support the audio element.\n",
              "                </audio>\n",
              "              "
            ]
          },
          "metadata": {},
          "execution_count": 10
        }
      ]
    }
  ]
}